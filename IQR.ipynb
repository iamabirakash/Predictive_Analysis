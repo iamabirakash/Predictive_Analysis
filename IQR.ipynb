{
 "cells": [
  {
   "cell_type": "code",
   "execution_count": 1,
   "id": "edc00afa-3ea8-4b5a-88af-dfb7ede91126",
   "metadata": {},
   "outputs": [],
   "source": [
    "import pandas as pd\n",
    "import numpy as np\n",
    "import seaborn as sns\n",
    "import matplotlib.pyplot as plt"
   ]
  },
  {
   "cell_type": "code",
   "execution_count": 2,
   "id": "39d7a951-a8d8-40c4-b46f-e87f2ade32f5",
   "metadata": {},
   "outputs": [],
   "source": [
    "data = sns.load_dataset('tips')"
   ]
  },
  {
   "cell_type": "code",
   "execution_count": 3,
   "id": "bdab31fe-e233-485d-8f52-06ba069ff014",
   "metadata": {},
   "outputs": [
    {
     "data": {
      "text/html": [
       "<div>\n",
       "<style scoped>\n",
       "    .dataframe tbody tr th:only-of-type {\n",
       "        vertical-align: middle;\n",
       "    }\n",
       "\n",
       "    .dataframe tbody tr th {\n",
       "        vertical-align: top;\n",
       "    }\n",
       "\n",
       "    .dataframe thead th {\n",
       "        text-align: right;\n",
       "    }\n",
       "</style>\n",
       "<table border=\"1\" class=\"dataframe\">\n",
       "  <thead>\n",
       "    <tr style=\"text-align: right;\">\n",
       "      <th></th>\n",
       "      <th>total_bill</th>\n",
       "      <th>tip</th>\n",
       "      <th>sex</th>\n",
       "      <th>smoker</th>\n",
       "      <th>day</th>\n",
       "      <th>time</th>\n",
       "      <th>size</th>\n",
       "    </tr>\n",
       "  </thead>\n",
       "  <tbody>\n",
       "    <tr>\n",
       "      <th>0</th>\n",
       "      <td>16.99</td>\n",
       "      <td>1.01</td>\n",
       "      <td>Female</td>\n",
       "      <td>No</td>\n",
       "      <td>Sun</td>\n",
       "      <td>Dinner</td>\n",
       "      <td>2</td>\n",
       "    </tr>\n",
       "    <tr>\n",
       "      <th>1</th>\n",
       "      <td>10.34</td>\n",
       "      <td>1.66</td>\n",
       "      <td>Male</td>\n",
       "      <td>No</td>\n",
       "      <td>Sun</td>\n",
       "      <td>Dinner</td>\n",
       "      <td>3</td>\n",
       "    </tr>\n",
       "    <tr>\n",
       "      <th>2</th>\n",
       "      <td>21.01</td>\n",
       "      <td>3.50</td>\n",
       "      <td>Male</td>\n",
       "      <td>No</td>\n",
       "      <td>Sun</td>\n",
       "      <td>Dinner</td>\n",
       "      <td>3</td>\n",
       "    </tr>\n",
       "    <tr>\n",
       "      <th>3</th>\n",
       "      <td>23.68</td>\n",
       "      <td>3.31</td>\n",
       "      <td>Male</td>\n",
       "      <td>No</td>\n",
       "      <td>Sun</td>\n",
       "      <td>Dinner</td>\n",
       "      <td>2</td>\n",
       "    </tr>\n",
       "    <tr>\n",
       "      <th>4</th>\n",
       "      <td>24.59</td>\n",
       "      <td>3.61</td>\n",
       "      <td>Female</td>\n",
       "      <td>No</td>\n",
       "      <td>Sun</td>\n",
       "      <td>Dinner</td>\n",
       "      <td>4</td>\n",
       "    </tr>\n",
       "  </tbody>\n",
       "</table>\n",
       "</div>"
      ],
      "text/plain": [
       "   total_bill   tip     sex smoker  day    time  size\n",
       "0       16.99  1.01  Female     No  Sun  Dinner     2\n",
       "1       10.34  1.66    Male     No  Sun  Dinner     3\n",
       "2       21.01  3.50    Male     No  Sun  Dinner     3\n",
       "3       23.68  3.31    Male     No  Sun  Dinner     2\n",
       "4       24.59  3.61  Female     No  Sun  Dinner     4"
      ]
     },
     "execution_count": 3,
     "metadata": {},
     "output_type": "execute_result"
    }
   ],
   "source": [
    "data.head()"
   ]
  },
  {
   "cell_type": "code",
   "execution_count": 4,
   "id": "04eb66f8-430f-41c3-9ea1-0f6f512eb46d",
   "metadata": {},
   "outputs": [],
   "source": [
    "columns = 'total_bill'"
   ]
  },
  {
   "cell_type": "code",
   "execution_count": 11,
   "id": "e92f5fe9-7e54-4a49-ae3c-f91685c547f9",
   "metadata": {},
   "outputs": [
    {
     "name": "stdout",
     "output_type": "stream",
     "text": [
      "Q1: 13.3475 \n",
      "Q3: 24.127499999999998 \n",
      "IQR: 10.779999999999998\n"
     ]
    }
   ],
   "source": [
    "Q1 = data[columns].quantile(0.25)\n",
    "Q3 = data[columns].quantile(0.75)\n",
    "IQR = Q3-Q1\n",
    "print(f\"Q1: {Q1} \\nQ3: {Q3} \\nIQR: {IQR}\")"
   ]
  },
  {
   "cell_type": "code",
   "execution_count": 13,
   "id": "1d97f53f-231b-4913-8150-ee7302a2c3b9",
   "metadata": {},
   "outputs": [
    {
     "name": "stdout",
     "output_type": "stream",
     "text": [
      "LB: -2.8224999999999945\n",
      "UB: 40.29749999999999\n"
     ]
    }
   ],
   "source": [
    "LB = Q1 - 1.5*IQR\n",
    "UB = Q3 + 1.5*IQR\n",
    "print(f\"LB: {LB}\\nUB: {UB}\")"
   ]
  },
  {
   "cell_type": "code",
   "execution_count": 16,
   "id": "6058c1ab-49c6-487e-9ea0-bfeebf3dda32",
   "metadata": {},
   "outputs": [],
   "source": [
    "filtered_data = data[(data[columns]>=LB) & (data[columns]<=UB)]"
   ]
  },
  {
   "cell_type": "code",
   "execution_count": 18,
   "id": "f4a0853c-003c-443d-be1f-ec4ccaf87011",
   "metadata": {},
   "outputs": [
    {
     "name": "stdout",
     "output_type": "stream",
     "text": [
      "       total_bill         tip        size\n",
      "count  235.000000  235.000000  235.000000\n",
      "mean    18.798681    2.901489    2.523404\n",
      "std      7.438468    1.225651    0.911984\n",
      "min      3.070000    1.000000    1.000000\n",
      "25%     13.215000    2.000000    2.000000\n",
      "50%     17.460000    2.750000    2.000000\n",
      "75%     23.135000    3.500000    3.000000\n",
      "max     40.170000    7.580000    6.000000\n"
     ]
    }
   ],
   "source": [
    "# Data after removing outliers\n",
    "print(filtered_data.describe())"
   ]
  },
  {
   "cell_type": "code",
   "execution_count": 19,
   "id": "a3c5aeb2-f43d-4ff8-99a8-e9ef1f32e234",
   "metadata": {},
   "outputs": [
    {
     "name": "stdout",
     "output_type": "stream",
     "text": [
      "Number of outliers removed: 9\n"
     ]
    }
   ],
   "source": [
    "# Show number of removed outliers\n",
    "num_removed = data.shape[0] - filtered_data.shape[0]\n",
    "print(f\"Number of outliers removed: {num_removed}\")"
   ]
  },
  {
   "cell_type": "code",
   "execution_count": null,
   "id": "8ee28e2c-90c3-4192-ad56-bb2e29bc93b3",
   "metadata": {},
   "outputs": [],
   "source": []
  }
 ],
 "metadata": {
  "kernelspec": {
   "display_name": "Python 3 (ipykernel)",
   "language": "python",
   "name": "python3"
  },
  "language_info": {
   "codemirror_mode": {
    "name": "ipython",
    "version": 3
   },
   "file_extension": ".py",
   "mimetype": "text/x-python",
   "name": "python",
   "nbconvert_exporter": "python",
   "pygments_lexer": "ipython3",
   "version": "3.13.2"
  }
 },
 "nbformat": 4,
 "nbformat_minor": 5
}
