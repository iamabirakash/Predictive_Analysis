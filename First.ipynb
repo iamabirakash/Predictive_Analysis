{
 "cells": [
  {
   "cell_type": "code",
   "execution_count": 41,
   "id": "2f6b7d28-10c1-4495-9325-536584b3f7e8",
   "metadata": {},
   "outputs": [],
   "source": [
    "import pandas as pd\n",
    "import numpy as np\n",
    "from sklearn.preprocessing import MinMaxScaler"
   ]
  },
  {
   "cell_type": "code",
   "execution_count": 27,
   "id": "fd1629d2-e7fa-45ac-827c-cc8781f174cb",
   "metadata": {},
   "outputs": [],
   "source": [
    "data = {\n",
    "    'ID':   [1, 2, 3, 4, 5, 6,  7,   8,   9,  10, 11,  12,  13,  14, 15],\n",
    "    'Name': [\"A\",\"B\",\"c\", np.nan,\"D\",\"E\", np.nan,\"F\", \"G\", \"H\", \"I\", \"J\", np.nan,\"K\", \"L\"],\n",
    "    'Age':  [20, 30, 40, 50, np.nan, 25, np.nan, 35, 45, np.nan, 22, 28, 33, np.nan, 41],\n",
    "    'City': [\"Delhi\",\"Mumbai\", np.nan,\"Chennai\",\"Pune\", np.nan,\"Kolkata\",\"Bengaluru\",\"Hyderabad\",\"Delhi\", \n",
    "             \"Pune\", np.nan,\"Jaipur\",\"Mumbai\", \"Chennai\"],\n",
    "    'Score':[85.0, np.nan, 72.5, 90.0, 66.0, np.nan, 78.0, np.nan, 88.5, 74.0, \n",
    "             np.nan, 69.0, 80.0, 92.0, np.nan]\n",
    "}\n",
    "df = pd.DataFrame(data)"
   ]
  },
  {
   "cell_type": "code",
   "execution_count": 28,
   "id": "beea34d9-c309-4536-889b-b1ceb301f857",
   "metadata": {},
   "outputs": [
    {
     "name": "stdout",
     "output_type": "stream",
     "text": [
      "{'ID': [1, 2, 3, 4, 5, 6, 7, 8, 9, 10, 11, 12, 13, 14, 15], 'Name': ['A', 'B', 'c', nan, 'D', 'E', nan, 'F', 'G', 'H', 'I', 'J', nan, 'K', 'L'], 'Age': [20, 30, 40, 50, nan, 25, nan, 35, 45, nan, 22, 28, 33, nan, 41], 'City': ['Delhi', 'Mumbai', nan, 'Chennai', 'Pune', nan, 'Kolkata', 'Bengaluru', 'Hyderabad', 'Delhi', 'Pune', nan, 'Jaipur', 'Mumbai', 'Chennai'], 'Score': [85.0, nan, 72.5, 90.0, 66.0, nan, 78.0, nan, 88.5, 74.0, nan, 69.0, 80.0, 92.0, nan]}\n"
     ]
    }
   ],
   "source": [
    "print(data)"
   ]
  },
  {
   "cell_type": "code",
   "execution_count": 35,
   "id": "193edb80-4432-42a6-a2ef-a6c6bb80b005",
   "metadata": {},
   "outputs": [
    {
     "name": "stdout",
     "output_type": "stream",
     "text": [
      "Missing values in each column\n"
     ]
    },
    {
     "data": {
      "text/plain": [
       "ID       0\n",
       "Name     3\n",
       "Age      4\n",
       "City     3\n",
       "Score    5\n",
       "dtype: int64"
      ]
     },
     "execution_count": 35,
     "metadata": {},
     "output_type": "execute_result"
    }
   ],
   "source": [
    "print(\"Missing values in each column\")\n",
    "df.isnull().sum()"
   ]
  },
  {
   "cell_type": "code",
   "execution_count": 30,
   "id": "e7696649-77f5-4b54-ab95-5a8d9b7febe4",
   "metadata": {},
   "outputs": [
    {
     "data": {
      "text/html": [
       "<div>\n",
       "<style scoped>\n",
       "    .dataframe tbody tr th:only-of-type {\n",
       "        vertical-align: middle;\n",
       "    }\n",
       "\n",
       "    .dataframe tbody tr th {\n",
       "        vertical-align: top;\n",
       "    }\n",
       "\n",
       "    .dataframe thead th {\n",
       "        text-align: right;\n",
       "    }\n",
       "</style>\n",
       "<table border=\"1\" class=\"dataframe\">\n",
       "  <thead>\n",
       "    <tr style=\"text-align: right;\">\n",
       "      <th></th>\n",
       "      <th>ID</th>\n",
       "      <th>Age</th>\n",
       "      <th>Score</th>\n",
       "    </tr>\n",
       "  </thead>\n",
       "  <tbody>\n",
       "    <tr>\n",
       "      <th>count</th>\n",
       "      <td>15.000000</td>\n",
       "      <td>11.000000</td>\n",
       "      <td>10.000000</td>\n",
       "    </tr>\n",
       "    <tr>\n",
       "      <th>mean</th>\n",
       "      <td>8.000000</td>\n",
       "      <td>33.545455</td>\n",
       "      <td>79.500000</td>\n",
       "    </tr>\n",
       "    <tr>\n",
       "      <th>std</th>\n",
       "      <td>4.472136</td>\n",
       "      <td>9.668129</td>\n",
       "      <td>9.140873</td>\n",
       "    </tr>\n",
       "    <tr>\n",
       "      <th>min</th>\n",
       "      <td>1.000000</td>\n",
       "      <td>20.000000</td>\n",
       "      <td>66.000000</td>\n",
       "    </tr>\n",
       "    <tr>\n",
       "      <th>25%</th>\n",
       "      <td>4.500000</td>\n",
       "      <td>26.500000</td>\n",
       "      <td>72.875000</td>\n",
       "    </tr>\n",
       "    <tr>\n",
       "      <th>50%</th>\n",
       "      <td>8.000000</td>\n",
       "      <td>33.000000</td>\n",
       "      <td>79.000000</td>\n",
       "    </tr>\n",
       "    <tr>\n",
       "      <th>75%</th>\n",
       "      <td>11.500000</td>\n",
       "      <td>40.500000</td>\n",
       "      <td>87.625000</td>\n",
       "    </tr>\n",
       "    <tr>\n",
       "      <th>max</th>\n",
       "      <td>15.000000</td>\n",
       "      <td>50.000000</td>\n",
       "      <td>92.000000</td>\n",
       "    </tr>\n",
       "  </tbody>\n",
       "</table>\n",
       "</div>"
      ],
      "text/plain": [
       "              ID        Age      Score\n",
       "count  15.000000  11.000000  10.000000\n",
       "mean    8.000000  33.545455  79.500000\n",
       "std     4.472136   9.668129   9.140873\n",
       "min     1.000000  20.000000  66.000000\n",
       "25%     4.500000  26.500000  72.875000\n",
       "50%     8.000000  33.000000  79.000000\n",
       "75%    11.500000  40.500000  87.625000\n",
       "max    15.000000  50.000000  92.000000"
      ]
     },
     "execution_count": 30,
     "metadata": {},
     "output_type": "execute_result"
    }
   ],
   "source": [
    "df.describe()"
   ]
  },
  {
   "cell_type": "code",
   "execution_count": 31,
   "id": "f3c8c609-3ddf-45c1-b744-a7220d7f3df0",
   "metadata": {},
   "outputs": [
    {
     "name": "stdout",
     "output_type": "stream",
     "text": [
      "   ID Name   Age       City  Score\n",
      "0   1    A  20.0      Delhi   85.0\n",
      "8   9    G  45.0  Hyderabad   88.5\n"
     ]
    }
   ],
   "source": [
    "df_dropped_rows = df.dropna()\n",
    "print(df_dropped_rows)"
   ]
  },
  {
   "cell_type": "code",
   "execution_count": 36,
   "id": "f3a9ea2f-6cf9-4aa3-b1d3-615dd4e0709f",
   "metadata": {},
   "outputs": [
    {
     "name": "stdout",
     "output_type": "stream",
     "text": [
      "Missing values in each column\n"
     ]
    },
    {
     "data": {
      "text/plain": [
       "ID       0\n",
       "Name     3\n",
       "Age      4\n",
       "City     3\n",
       "Score    5\n",
       "dtype: int64"
      ]
     },
     "execution_count": 36,
     "metadata": {},
     "output_type": "execute_result"
    }
   ],
   "source": [
    "print(\"Missing values in each column\")\n",
    "df.isnull().sum()"
   ]
  },
  {
   "cell_type": "code",
   "execution_count": 33,
   "id": "a1c00ca5-c554-4d58-8255-98bfc39d9198",
   "metadata": {},
   "outputs": [
    {
     "name": "stdout",
     "output_type": "stream",
     "text": [
      "    ID\n",
      "0    1\n",
      "1    2\n",
      "2    3\n",
      "3    4\n",
      "4    5\n",
      "5    6\n",
      "6    7\n",
      "7    8\n",
      "8    9\n",
      "9   10\n",
      "10  11\n",
      "11  12\n",
      "12  13\n",
      "13  14\n",
      "14  15\n"
     ]
    }
   ],
   "source": [
    "df_dropped_cols = df.dropna(axis=1)\n",
    "print(df_dropped_cols)"
   ]
  },
  {
   "cell_type": "code",
   "execution_count": 34,
   "id": "34b57644-0f24-44e7-b718-a3968099e5c2",
   "metadata": {},
   "outputs": [
    {
     "name": "stdout",
     "output_type": "stream",
     "text": [
      "ID       0\n",
      "Name     3\n",
      "Age      4\n",
      "City     3\n",
      "Score    5\n",
      "dtype: int64\n"
     ]
    }
   ],
   "source": [
    "print(df.isnull().sum())"
   ]
  },
  {
   "cell_type": "code",
   "execution_count": 39,
   "id": "6f0b92af-6aaa-4683-bdf9-61d309672f32",
   "metadata": {},
   "outputs": [
    {
     "name": "stdout",
     "output_type": "stream",
     "text": [
      "    ID Name        Age       City  Score\n",
      "0    1    A  20.000000      Delhi   85.0\n",
      "1    2    B  30.000000     Mumbai    NaN\n",
      "2    3    c  40.000000    Unknown   72.5\n",
      "3    4  NaN  50.000000    Chennai   90.0\n",
      "4    5    D  33.545455       Pune   66.0\n",
      "5    6    E  25.000000    Unknown    NaN\n",
      "6    7  NaN  33.545455    Kolkata   78.0\n",
      "7    8    F  35.000000  Bengaluru    NaN\n",
      "8    9    G  45.000000  Hyderabad   88.5\n",
      "9   10    H  33.545455      Delhi   74.0\n",
      "10  11    I  22.000000       Pune    NaN\n",
      "11  12    J  28.000000    Unknown   69.0\n",
      "12  13  NaN  33.000000     Jaipur   80.0\n",
      "13  14    K  33.545455     Mumbai   92.0\n",
      "14  15    L  41.000000    Chennai    NaN\n"
     ]
    }
   ],
   "source": [
    "# df_filled = df.fillna({'Age':df['Age'].mean(),'City':'Unknown','Salary':})\n",
    "df = df.fillna({\n",
    "    'Age': df['Age'].mean(),\n",
    "    'City': 'Unknown',\n",
    "    'Salary': 0\n",
    "})\n",
    "print(df_filled)"
   ]
  },
  {
   "cell_type": "code",
   "execution_count": 40,
   "id": "4597071c-f92a-4e13-bf30-f6e91a02fdc0",
   "metadata": {},
   "outputs": [
    {
     "name": "stdout",
     "output_type": "stream",
     "text": [
      "ID       0\n",
      "Name     3\n",
      "Age      0\n",
      "City     0\n",
      "Score    5\n",
      "dtype: int64\n"
     ]
    }
   ],
   "source": [
    "print(df.isnull().sum())"
   ]
  }
 ],
 "metadata": {
  "kernelspec": {
   "display_name": "Python 3 (ipykernel)",
   "language": "python",
   "name": "python3"
  },
  "language_info": {
   "codemirror_mode": {
    "name": "ipython",
    "version": 3
   },
   "file_extension": ".py",
   "mimetype": "text/x-python",
   "name": "python",
   "nbconvert_exporter": "python",
   "pygments_lexer": "ipython3",
   "version": "3.13.2"
  }
 },
 "nbformat": 4,
 "nbformat_minor": 5
}
