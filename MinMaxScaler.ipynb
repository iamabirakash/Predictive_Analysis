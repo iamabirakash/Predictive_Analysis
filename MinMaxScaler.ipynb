{
 "cells": [
  {
   "cell_type": "code",
   "execution_count": 6,
   "id": "932010c0-9444-4063-a4a1-a318d12b8b32",
   "metadata": {},
   "outputs": [],
   "source": [
    "import pandas as pd\n",
    "import numpy as np\n",
    "from sklearn.preprocessing import MinMaxScaler\n",
    "from sklearn.preprocessing import StandardScaler"
   ]
  },
  {
   "cell_type": "markdown",
   "id": "150ea66c-74f8-4f17-9483-ed62fe3dbf41",
   "metadata": {},
   "source": [
    "## M1: MinMaxScaler"
   ]
  },
  {
   "cell_type": "markdown",
   "id": "416fec33-b6a2-4b61-b69e-865f91a421c7",
   "metadata": {},
   "source": [
    "##### (X-Xmin)/(Xmax - Xmin)"
   ]
  },
  {
   "cell_type": "code",
   "execution_count": 7,
   "id": "512330c7-4af9-428e-ae5c-5a3ef80fe510",
   "metadata": {},
   "outputs": [
    {
     "name": "stdout",
     "output_type": "stream",
     "text": [
      "   Age  Salary\n",
      "0   23     110\n",
      "1   44     200\n",
      "2   32     300\n",
      "3   34     400\n",
      "4   44     500\n"
     ]
    }
   ],
   "source": [
    "data = {\n",
    "    'Age': [23,44,32,34,44],\n",
    "    'Salary': [110,200,300,400,500]\n",
    "}\n",
    "df = pd.DataFrame(data)\n",
    "print(df)"
   ]
  },
  {
   "cell_type": "code",
   "execution_count": 8,
   "id": "d9b63973-6c15-4fe3-8352-85046906a9fd",
   "metadata": {},
   "outputs": [
    {
     "name": "stdout",
     "output_type": "stream",
     "text": [
      "MinMaxScaler()\n"
     ]
    }
   ],
   "source": [
    "scaler = MinMaxScaler(feature_range=(0,1))  #default range is (0,1)\n",
    "print(scaler)"
   ]
  },
  {
   "cell_type": "code",
   "execution_count": 9,
   "id": "bdcc9826-d51c-49c6-91bc-e61171e187bf",
   "metadata": {},
   "outputs": [
    {
     "name": "stdout",
     "output_type": "stream",
     "text": [
      "[[0.         0.        ]\n",
      " [1.         0.23076923]\n",
      " [0.42857143 0.48717949]\n",
      " [0.52380952 0.74358974]\n",
      " [1.         1.        ]]\n"
     ]
    }
   ],
   "source": [
    "scaled_data = scaler.fit_transform(df)\n",
    "print(scaled_data)"
   ]
  },
  {
   "cell_type": "code",
   "execution_count": 10,
   "id": "57fa5131-a9c5-40dd-bc8f-a479d43bed39",
   "metadata": {},
   "outputs": [
    {
     "name": "stdout",
     "output_type": "stream",
     "text": [
      "        Age    Salary\n",
      "0  0.000000  0.000000\n",
      "1  1.000000  0.230769\n",
      "2  0.428571  0.487179\n",
      "3  0.523810  0.743590\n",
      "4  1.000000  1.000000\n"
     ]
    }
   ],
   "source": [
    "scaled_df = pd.DataFrame(scaled_data,columns=df.columns)\n",
    "print(scaled_df)"
   ]
  },
  {
   "cell_type": "markdown",
   "id": "e3934240-6cdc-43e1-87a7-3c0b711bb9e0",
   "metadata": {},
   "source": [
    "## M2: Z-Score Normalization (StandardScaler)"
   ]
  },
  {
   "cell_type": "markdown",
   "id": "2a54bd3c-13bb-47f4-9c2d-440e721dec30",
   "metadata": {},
   "source": [
    "##### (X-Xmean)/Std.Dev"
   ]
  },
  {
   "cell_type": "code",
   "execution_count": 11,
   "id": "7bc7a848-4c55-4029-ab70-80cf8a29de93",
   "metadata": {},
   "outputs": [
    {
     "name": "stdout",
     "output_type": "stream",
     "text": [
      "        Age    Salary\n",
      "0 -1.561757 -1.385064\n",
      "1  1.083154 -0.735815\n",
      "2 -0.428224 -0.014428\n",
      "3 -0.176327  0.706960\n",
      "4  1.083154  1.428347\n"
     ]
    }
   ],
   "source": [
    "zscore_scaler = StandardScaler()\n",
    "zscore_scaled = zscore_scaler.fit_transform(df)\n",
    "zscore_df = pd.DataFrame(zscore_scaled,columns=df.columns)\n",
    "print(zscore_df)"
   ]
  },
  {
   "cell_type": "code",
   "execution_count": null,
   "id": "bb8413db-4997-4445-845d-cb5c25728c6e",
   "metadata": {},
   "outputs": [],
   "source": []
  }
 ],
 "metadata": {
  "kernelspec": {
   "display_name": "Python 3 (ipykernel)",
   "language": "python",
   "name": "python3"
  },
  "language_info": {
   "codemirror_mode": {
    "name": "ipython",
    "version": 3
   },
   "file_extension": ".py",
   "mimetype": "text/x-python",
   "name": "python",
   "nbconvert_exporter": "python",
   "pygments_lexer": "ipython3",
   "version": "3.13.2"
  }
 },
 "nbformat": 4,
 "nbformat_minor": 5
}
